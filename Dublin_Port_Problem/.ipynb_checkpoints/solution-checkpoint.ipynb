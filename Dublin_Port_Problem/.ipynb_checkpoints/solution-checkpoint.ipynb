{
 "cells": [
  {
   "cell_type": "markdown",
   "id": "a29c640d-69f5-4071-8b7b-7d913997a1f1",
   "metadata": {},
   "source": [
    "# CRT-AI Constraint Week 2023 - Programming Challenge"
   ]
  },
  {
   "cell_type": "markdown",
   "id": "f2ac38f8-f9d2-4eea-a724-f91fb44136c3",
   "metadata": {},
   "source": [
    "Author: Jiaolin Luo (Róisín)"
   ]
  },
  {
   "cell_type": "markdown",
   "id": "811e5534-b27c-4ecc-98fc-a108be620353",
   "metadata": {},
   "source": [
    "# Importing CP environment"
   ]
  },
  {
   "cell_type": "code",
   "execution_count": 2,
   "id": "448b760e-fb7b-4970-b61e-f189296254dc",
   "metadata": {
    "tags": []
   },
   "outputs": [],
   "source": [
    "from ortools.sat.python import cp_model"
   ]
  },
  {
   "cell_type": "markdown",
   "id": "47042fe0-48c4-4c5d-99cc-7baeb0d12c34",
   "metadata": {},
   "source": [
    "# Problem data (definition)"
   ]
  },
  {
   "cell_type": "markdown",
   "id": "5e733c8f-ddd0-4e18-b4aa-9e7cbd79d636",
   "metadata": {},
   "source": [
    "## Berths"
   ]
  },
  {
   "cell_type": "code",
   "execution_count": 8,
   "id": "0bf3d1de-72ee-4e6e-af47-574237a23432",
   "metadata": {
    "tags": []
   },
   "outputs": [
    {
     "name": "stdout",
     "output_type": "stream",
     "text": [
      "('RoRo', 'LoLo', 'Bulk', 'LiquidBulk', 'Cruise')\n"
     ]
    }
   ],
   "source": [
    "ShipType=(\"RoRo\", \"LoLo\", \"Bulk\", \"LiquidBulk\", \"Cruise\")\n",
    "print(ShipType)"
   ]
  },
  {
   "cell_type": "code",
   "execution_count": 13,
   "id": "1c6fec11-373a-46f5-abdb-83c4f53d04ab",
   "metadata": {
    "tags": []
   },
   "outputs": [],
   "source": [
    "nrBerths=31\n",
    "\n",
    "#for each berth, the available type for ship type.\n",
    "berthType=[(\"Cruise\"),\n",
    "           (\"RoRo\"),\n",
    "           (\"RoRo\"),\n",
    "           (\"Bulk\"),\n",
    "           (\"Bulk\"),\n",
    "           (\"Bulk\"),\n",
    "           (\"Bulk\"),\n",
    "           (\"LoLo\",\"Bulk\"),\n",
    "           (\"LoLo\",\"Bulk\"),\n",
    "           (\"Bulk\"),\n",
    "           (\"RoRo\"),\n",
    "           (\"RoRo\"),\n",
    "           (\"LoLo\",\"Bulk\"),\n",
    "           (\"LoLo\",\"Bulk\"),\n",
    "           (\"LoLo\",\"Bulk\"),\n",
    "           (\"LoLo\"),\n",
    "           (\"LoLo\"),\n",
    "           (\"LoLo\"),\n",
    "           (\"LoLo\"),\n",
    "           (\"Bulk\"),\n",
    "           (\"Bulk\"),\n",
    "           (\"RoRo\"),\n",
    "           (\"LoLo\"),\n",
    "           (\"LoLo\"),\n",
    "           (\"RoRo\"),\n",
    "           (\"RoRo\"),\n",
    "           (\"RoRo\"),\n",
    "           (\"LiquidBulk\"),\n",
    "           (\"LiquidBulk\"),\n",
    "           (\"LiquidBulk\"),\n",
    "           (\"LiquidBulk\")]\n",
    "\n",
    "#print(len(berthType))"
   ]
  },
  {
   "cell_type": "code",
   "execution_count": 14,
   "id": "ea7bf030-e3f1-40b4-a9ee-a2927db23424",
   "metadata": {
    "tags": []
   },
   "outputs": [],
   "source": [
    "berthLength=[200,156,156,100,125,\n",
    "             125,125,140,140,130,\n",
    "             120,120,120,120,120,\n",
    "             120,140,140,140,180,\n",
    "             180,213,290,290,205,\n",
    "             190,200,220,220,220,\n",
    "             220]\n",
    "#print(len(berthLength))\n",
    "\n",
    "depth=[650,590,590,610,900,\n",
    "       900,900,950,950,950,\n",
    "       1030,1030,1000,1000,1000,\n",
    "       740,1100,1100,800,1100,\n",
    "       1100,1100,1100,1100,800,\n",
    "       800,800,1100,1100,1100,\n",
    "       1100]\n",
    "\n",
    "#print(len(depth))"
   ]
  },
  {
   "cell_type": "markdown",
   "id": "b814acec-8b12-4baf-be64-78123174652c",
   "metadata": {},
   "source": [
    "## Ship data"
   ]
  },
  {
   "cell_type": "code",
   "execution_count": 15,
   "id": "8d253886-b665-4fce-b0d0-24a35601bac7",
   "metadata": {
    "tags": []
   },
   "outputs": [],
   "source": [
    "nrShips=48\n",
    "shipType=[\"Cruise\",\"Cruise\",\"Cruise\",\"RoRo\",\"RoRo\",\n",
    "          \"RoRo\",\"RoRo\",\"RoRo\",\"RoRo\",\"RoRo\",\n",
    "          \"RoRo\",\"RoRo\",\"RoRo\",\"RoRo\",\"RoRo\",\n",
    "          \"RoRo\",\"RoRo\",\"RoRo\",\"RoRo\",\"RoRo\",\n",
    "          \"RoRo\",\"RoRo\",\"RoRo\",\"RoRo\",\"LoLo\",\n",
    "          \"LoLo\",\"LoLo\",\"LoLo\",\"LoLo\",\"LoLo\",\n",
    "          \"LoLo\",\"Bulk\",\"Bulk\",\"Bulk\",\"Bulk\",\n",
    "          \"Bulk\",\"Bulk\",\"Bulk\",\"Bulk\",\"Bulk\",\n",
    "          \"Bulk\",\"LiquidBulk\",\"LiquidBulk\",\"LiquidBulk\",\"LiquidBulk\",\n",
    "          \"LiquidBulk\",\"LiquidBulk\",\"LiquidBulk\"]\n",
    "\n",
    "shipLength=[100,125,125,100,150,\n",
    "            125,150,125,125,125,\n",
    "            125,125,125,100,100,\n",
    "            125,150,100,100,150,\n",
    "            150,150,125,125,100,\n",
    "            150,125,100,125,100,\n",
    "            100,125,100,100,150,\n",
    "            150,125,100,100,100,\n",
    "            100,150,100,125,125,\n",
    "            100,100,100]\n",
    "\n",
    "draught=[590,590,590,590,590,\n",
    "         590,590,590,590,590,\n",
    "         590,590,590,590,590,\n",
    "         590,590,590,590,590,\n",
    "         590,590,590,590,590,\n",
    "         590,590,590,590,590,\n",
    "         590,590,590,590,590,\n",
    "         590,590,590,590,590,\n",
    "         590,590,590,590,590,\n",
    "         590,590,590]\n",
    "\n",
    "arrival=[24,122,216,92,188,\n",
    "         284,380,476,572,668,\n",
    "         20,116,212,308,404,\n",
    "         500,596,550,646,189,\n",
    "         310,459,437,354,363,\n",
    "         320,415,237,220,357,\n",
    "         176,345,4,151,98,\n",
    "         14,359,58,192,297,\n",
    "         241,69,259,26,53,\n",
    "         101,174,75]\n",
    "\n",
    "departure=[72,170,264,104,200,\n",
    "           296,392,488,584,680,\n",
    "           84,180,276,372,468,\n",
    "           516,612,566,662,237,\n",
    "           370,515,469,378,407,\n",
    "           364,439,289,276,389,\n",
    "           220,425,68,223,170,\n",
    "           82,431,114,244,377,\n",
    "           321,153,307,90,121,\n",
    "           173,230,139]"
   ]
  },
  {
   "cell_type": "markdown",
   "id": "6592f9d6-5889-4062-b7d0-190c561e76c2",
   "metadata": {
    "tags": []
   },
   "source": [
    "# Declaring variables"
   ]
  },
  {
   "cell_type": "code",
   "execution_count": null,
   "id": "3914e68f-d3fb-4df5-8cba-78fb57fed9ba",
   "metadata": {},
   "outputs": [],
   "source": []
  },
  {
   "cell_type": "markdown",
   "id": "57c44259-5bd1-4948-a459-41f65845f4b2",
   "metadata": {},
   "source": [
    "# Instantiating CP model and solver"
   ]
  },
  {
   "cell_type": "code",
   "execution_count": 16,
   "id": "d7727370-c806-4429-9869-909988cec4f3",
   "metadata": {
    "tags": []
   },
   "outputs": [],
   "source": [
    "model = cp_model.CpModel()\n",
    "solver = cp_model.CpSolver()"
   ]
  },
  {
   "cell_type": "code",
   "execution_count": null,
   "id": "6b54f606-19db-4ca2-a96f-d3cd67f5db96",
   "metadata": {},
   "outputs": [],
   "source": []
  }
 ],
 "metadata": {
  "kernelspec": {
   "display_name": "Python 3 (ipykernel)",
   "language": "python",
   "name": "python3"
  },
  "language_info": {
   "codemirror_mode": {
    "name": "ipython",
    "version": 3
   },
   "file_extension": ".py",
   "mimetype": "text/x-python",
   "name": "python",
   "nbconvert_exporter": "python",
   "pygments_lexer": "ipython3",
   "version": "3.11.2"
  }
 },
 "nbformat": 4,
 "nbformat_minor": 5
}
